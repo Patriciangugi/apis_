{
  "nbformat": 4,
  "nbformat_minor": 0,
  "metadata": {
    "colab": {
      "provenance": [],
      "authorship_tag": "ABX9TyOzDF0YjIBPOXSRVhRZrKVT",
      "include_colab_link": true
    },
    "kernelspec": {
      "name": "python3",
      "display_name": "Python 3"
    },
    "language_info": {
      "name": "python"
    }
  },
  "cells": [
    {
      "cell_type": "markdown",
      "metadata": {
        "id": "view-in-github",
        "colab_type": "text"
      },
      "source": [
        "<a href=\"https://colab.research.google.com/github/Patriciangugi/apis_/blob/main/Database%20Admin%20101%20school%20scenario.ipynb\" target=\"_parent\"><img src=\"https://colab.research.google.com/assets/colab-badge.svg\" alt=\"Open In Colab\"/></a>"
      ]
    },
    {
      "cell_type": "code",
      "execution_count": null,
      "metadata": {
        "colab": {
          "base_uri": "https://localhost:8080/"
        },
        "id": "DsNirdDug4J0",
        "outputId": "3fb5d2a8-c813-4dbd-87ee-e09088418ce1"
      },
      "outputs": [
        {
          "output_type": "stream",
          "name": "stdout",
          "text": [
            "\u001b[0m\u001b[01;34msample_data\u001b[0m/\n"
          ]
        }
      ],
      "source": [
        "ls"
      ]
    },
    {
      "cell_type": "code",
      "source": [
        "import sqlite3\n",
        "conn = sqlite3.connect('pets_database.db')\n",
        "cur = conn.cursor()"
      ],
      "metadata": {
        "id": "AuiHuSf_g7na"
      },
      "execution_count": null,
      "outputs": []
    },
    {
      "cell_type": "code",
      "source": [
        "ls"
      ],
      "metadata": {
        "colab": {
          "base_uri": "https://localhost:8080/"
        },
        "id": "TBVd94pAg7sQ",
        "outputId": "68e45c98-cc6b-4f8f-b82b-d8972bfbc6c7"
      },
      "execution_count": null,
      "outputs": [
        {
          "output_type": "stream",
          "name": "stdout",
          "text": [
            "pets_database.db  \u001b[0m\u001b[01;34msample_data\u001b[0m/\n"
          ]
        }
      ]
    },
    {
      "cell_type": "code",
      "source": [
        "#Creating the cats table\n",
        "cur.execute(\"\"\"CREATE TABLE cats (\n",
        "                                id INTEGER PRIMARY KEY,\n",
        "                                name TEXT,\n",
        "                                age INTEGER,\n",
        "                                breed TEXT )\n",
        "            \"\"\")"
      ],
      "metadata": {
        "colab": {
          "base_uri": "https://localhost:8080/"
        },
        "id": "-i46Welsg7vh",
        "outputId": "4e92f030-7d5b-4cc7-9e8d-d0cb2a20f5c6"
      },
      "execution_count": null,
      "outputs": [
        {
          "output_type": "execute_result",
          "data": {
            "text/plain": [
              "<sqlite3.Cursor at 0x7e86bd8bcac0>"
            ]
          },
          "metadata": {},
          "execution_count": 6
        }
      ]
    },
    {
      "cell_type": "code",
      "source": [
        "# insert Maru into the pet_database.db here\n",
        "cur.execute('''INSERT INTO cats (name, age, breed)\n",
        "                  VALUES ('Maru', 3, 'Scottish Fold');\n",
        "            ''')"
      ],
      "metadata": {
        "colab": {
          "base_uri": "https://localhost:8080/"
        },
        "id": "DA5tuQKmg7yz",
        "outputId": "9a3121d1-d7df-4ec5-f829-3d016bf0f63c"
      },
      "execution_count": null,
      "outputs": [
        {
          "output_type": "execute_result",
          "data": {
            "text/plain": [
              "<sqlite3.Cursor at 0x7e86bd8bcac0>"
            ]
          },
          "metadata": {},
          "execution_count": 7
        }
      ]
    },
    {
      "cell_type": "code",
      "source": [
        "# update hannah here\n",
        "cur.execute('''UPDATE cats SET name = \"Hana\" WHERE name = \"Hannah\";''')"
      ],
      "metadata": {
        "colab": {
          "base_uri": "https://localhost:8080/"
        },
        "id": "STP7bFpgg72J",
        "outputId": "4a3ed7d6-d420-4b29-a960-148f9ad2baf5"
      },
      "execution_count": null,
      "outputs": [
        {
          "output_type": "execute_result",
          "data": {
            "text/plain": [
              "<sqlite3.Cursor at 0x7e86bd8bcac0>"
            ]
          },
          "metadata": {},
          "execution_count": 8
        }
      ]
    },
    {
      "cell_type": "code",
      "source": [
        "# DELETE record with id=2 here\n",
        "cur.execute('''DELETE FROM cats WHERE id = 2;''')"
      ],
      "metadata": {
        "colab": {
          "base_uri": "https://localhost:8080/"
        },
        "id": "RvCljyF5g75Q",
        "outputId": "d9cbe9b7-86fe-46f4-e055-a57a65d4ba84"
      },
      "execution_count": null,
      "outputs": [
        {
          "output_type": "execute_result",
          "data": {
            "text/plain": [
              "<sqlite3.Cursor at 0x7e86bd8bcac0>"
            ]
          },
          "metadata": {},
          "execution_count": 9
        }
      ]
    },
    {
      "cell_type": "code",
      "source": [
        "#Preview the table via the current cursor/connection\n",
        "cur.execute(\"\"\"SELECT * FROM cats;\"\"\").fetchall()"
      ],
      "metadata": {
        "colab": {
          "base_uri": "https://localhost:8080/"
        },
        "id": "FG0uqwNxg78a",
        "outputId": "9fd33a7c-e44a-4eb0-9a27-7d26c2356a47"
      },
      "execution_count": null,
      "outputs": [
        {
          "output_type": "execute_result",
          "data": {
            "text/plain": [
              "[(1, 'Maru', 3, 'Scottish Fold')]"
            ]
          },
          "metadata": {},
          "execution_count": 10
        }
      ]
    },
    {
      "cell_type": "code",
      "source": [
        "#Preview the table via a second current cursor/connection\n",
        "#Don't overwrite the previous connection: you'll lose all of your work!\n",
        "conn2 = sqlite3.connect('pets_database.db')\n",
        "cur2 = conn2.cursor()\n",
        "cur2.execute(\"\"\"SELECT * FROM cats;\"\"\").fetchall()"
      ],
      "metadata": {
        "colab": {
          "base_uri": "https://localhost:8080/"
        },
        "id": "nfAchVSXg8DF",
        "outputId": "a686d479-6fd9-4743-a144-866926e0d36d"
      },
      "execution_count": null,
      "outputs": [
        {
          "output_type": "execute_result",
          "data": {
            "text/plain": [
              "[]"
            ]
          },
          "metadata": {},
          "execution_count": 11
        }
      ]
    },
    {
      "cell_type": "code",
      "source": [
        "# Commit your changes to the databaase\n",
        "conn.commit()"
      ],
      "metadata": {
        "id": "utIRWznXg8Gu"
      },
      "execution_count": null,
      "outputs": []
    },
    {
      "cell_type": "code",
      "source": [
        "#Preview the table via a reloaded second current cursor/connection\n",
        "conn2 = sqlite3.connect('pets_database.db')\n",
        "cur2 = conn2.cursor()\n",
        "cur2.execute(\"\"\"SELECT * FROM cats;\"\"\").fetchall()"
      ],
      "metadata": {
        "colab": {
          "base_uri": "https://localhost:8080/"
        },
        "id": "L1lQa0Icg8K1",
        "outputId": "781f564e-e78b-4dd9-f974-566458c72777"
      },
      "execution_count": null,
      "outputs": [
        {
          "output_type": "execute_result",
          "data": {
            "text/plain": [
              "[(1, 'Maru', 3, 'Scottish Fold')]"
            ]
          },
          "metadata": {},
          "execution_count": 13
        }
      ]
    },
    {
      "cell_type": "code",
      "source": [],
      "metadata": {
        "id": "pToOkbPQg8Pm"
      },
      "execution_count": null,
      "outputs": []
    },
    {
      "cell_type": "markdown",
      "source": [
        "The Scenario\n",
        "You are looking to design a database for a school that will house various information from student grades to contact information, class roster lists and attendance. First, think of how you would design such a database. What tables would you include? What columns would each table have? What would be the primary means to join said tables?"
      ],
      "metadata": {
        "id": "gmul831BjvVT"
      }
    },
    {
      "cell_type": "code",
      "source": [],
      "metadata": {
        "id": "4zSwyoV0jZ4o"
      },
      "execution_count": null,
      "outputs": []
    },
    {
      "cell_type": "code",
      "source": [],
      "metadata": {
        "id": "3qksOWULjZ86"
      },
      "execution_count": null,
      "outputs": []
    },
    {
      "cell_type": "code",
      "source": [],
      "metadata": {
        "id": "LaTK7cfVjaAj"
      },
      "execution_count": null,
      "outputs": []
    },
    {
      "cell_type": "code",
      "source": [],
      "metadata": {
        "id": "f_L1Z504jaDi"
      },
      "execution_count": null,
      "outputs": []
    },
    {
      "cell_type": "markdown",
      "source": [],
      "metadata": {
        "id": "unz5a3NEjuWH"
      }
    }
  ]
}